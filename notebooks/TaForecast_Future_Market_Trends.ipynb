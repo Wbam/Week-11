{
 "cells": [
  {
   "cell_type": "code",
   "execution_count": 2,
   "metadata": {},
   "outputs": [],
   "source": [
    "import yfinance as yf\n",
    "import pandas as pd\n",
    "import numpy as np\n",
    "import matplotlib.pyplot as plt\n",
    "import seaborn as sns\n",
    "from statsmodels.tsa.arima.model import ARIMA\n",
    "from statsmodels.graphics.tsaplots import plot_acf, plot_pacf\n",
    "from datetime import timedelta\n"
   ]
  },
  {
   "cell_type": "code",
   "execution_count": 9,
   "metadata": {},
   "outputs": [
    {
     "name": "stdout",
     "output_type": "stream",
     "text": [
      "                          0                   1                   2   \\\n",
      "0                      Price           Adj Close           Adj Close   \n",
      "1                     Ticker                 BND                 SPY   \n",
      "2                       Date                 NaN                 NaN   \n",
      "3  2015-01-02 00:00:00+00:00  63.358760833740234  173.17376708984375   \n",
      "4  2015-01-05 00:00:00+00:00   63.54275131225586  170.04629516601562   \n",
      "\n",
      "                   3                  4                   5   \\\n",
      "0           Adj Close              Close               Close   \n",
      "1                TSLA                BND                 SPY   \n",
      "2                 NaN                NaN                 NaN   \n",
      "3  14.620667457580566   82.6500015258789  205.42999267578125   \n",
      "4  14.005999565124512  82.88999938964844  201.72000122070312   \n",
      "\n",
      "                   6                  7                  8   \\\n",
      "0               Close               High               High   \n",
      "1                TSLA                BND                SPY   \n",
      "2                 NaN                NaN                NaN   \n",
      "3  14.620667457580566  82.69000244140625  206.8800048828125   \n",
      "4  14.005999565124512  82.91999816894531  204.3699951171875   \n",
      "\n",
      "                   9                  10                  11  \\\n",
      "0                High                Low                 Low   \n",
      "1                TSLA                BND                 SPY   \n",
      "2                 NaN                NaN                 NaN   \n",
      "3  14.883333206176758  82.41999816894531  204.17999267578125   \n",
      "4  14.433333396911621  82.69999694824219  201.35000610351562   \n",
      "\n",
      "                   12                 13                 14  \\\n",
      "0                 Low               Open               Open   \n",
      "1                TSLA                BND                SPY   \n",
      "2                 NaN                NaN                NaN   \n",
      "3   14.21733283996582  82.43000030517578  206.3800048828125   \n",
      "4  13.810667037963867  82.73999786376953  204.1699981689453   \n",
      "\n",
      "                   15       16         17        18  \n",
      "0                Open   Volume     Volume    Volume  \n",
      "1                TSLA      BND        SPY      TSLA  \n",
      "2                 NaN      NaN        NaN       NaN  \n",
      "3  14.857999801635742  2218800  121465900  71466000  \n",
      "4  14.303333282470703  5820100  169632600  80527500  \n"
     ]
    }
   ],
   "source": [
    "data_raw = pd.read_csv('tesla_bnd_spy_cleaned_data.csv', header=None)\n",
    "print(data_raw.head())\n"
   ]
  },
  {
   "cell_type": "code",
   "execution_count": null,
   "metadata": {},
   "outputs": [
    {
     "name": "stdout",
     "output_type": "stream",
     "text": [
      "                           Unnamed: 1  Unnamed: 2  Unnamed: 3  Unnamed: 4  \\\n",
      "Date                                                                        \n",
      "2015-01-02 00:00:00+00:00   63.358761  173.173767   14.620667   82.650002   \n",
      "2015-01-05 00:00:00+00:00   63.542751  170.046295   14.006000   82.889999   \n",
      "2015-01-06 00:00:00+00:00   63.726738  168.444611   14.085333   83.129997   \n",
      "2015-01-07 00:00:00+00:00   63.765091  170.543655   14.063333   83.180000   \n",
      "2015-01-08 00:00:00+00:00   63.665394  173.569977   14.041333   83.050003   \n",
      "\n",
      "                           Unnamed: 5  Unnamed: 6  Unnamed: 7  Unnamed: 8  \\\n",
      "Date                                                                        \n",
      "2015-01-02 00:00:00+00:00  205.429993   14.620667   82.690002  206.880005   \n",
      "2015-01-05 00:00:00+00:00  201.720001   14.006000   82.919998  204.369995   \n",
      "2015-01-06 00:00:00+00:00  199.820007   14.085333   83.379997  202.720001   \n",
      "2015-01-07 00:00:00+00:00  202.309998   14.063333   83.279999  202.720001   \n",
      "2015-01-08 00:00:00+00:00  205.899994   14.041333   83.110001  206.160004   \n",
      "\n",
      "                           Unnamed: 9  Unnamed: 10  Unnamed: 11  Unnamed: 12  \\\n",
      "Date                                                                           \n",
      "2015-01-02 00:00:00+00:00   14.883333    82.419998   204.179993    14.217333   \n",
      "2015-01-05 00:00:00+00:00   14.433333    82.699997   201.350006    13.810667   \n",
      "2015-01-06 00:00:00+00:00   14.280000    83.029999   198.860001    13.614000   \n",
      "2015-01-07 00:00:00+00:00   14.318667    83.050003   200.880005    13.985333   \n",
      "2015-01-08 00:00:00+00:00   14.253333    82.970001   203.990005    14.000667   \n",
      "\n",
      "                           Unnamed: 13  Unnamed: 14  Unnamed: 15  Unnamed: 16  \\\n",
      "Date                                                                            \n",
      "2015-01-02 00:00:00+00:00    82.430000   206.380005    14.858000      2218800   \n",
      "2015-01-05 00:00:00+00:00    82.739998   204.169998    14.303333      5820100   \n",
      "2015-01-06 00:00:00+00:00    83.029999   202.089996    14.004000      3887600   \n",
      "2015-01-07 00:00:00+00:00    83.139999   201.419998    14.223333      2433400   \n",
      "2015-01-08 00:00:00+00:00    83.110001   204.009995    14.187333      1873400   \n",
      "\n",
      "                           Unnamed: 17  Unnamed: 18  \n",
      "Date                                                 \n",
      "2015-01-02 00:00:00+00:00    121465900     71466000  \n",
      "2015-01-05 00:00:00+00:00    169632600     80527500  \n",
      "2015-01-06 00:00:00+00:00    209151400     93928500  \n",
      "2015-01-07 00:00:00+00:00    125346700     44526000  \n",
      "2015-01-08 00:00:00+00:00    147217800     51637500  \n"
     ]
    }
   ],
   "source": [
    "data_clean = pd.read_csv(\n",
    "    'tesla_bnd_spy_cleaned_data.csv',\n",
    "    header=2,  \n",
    "    parse_dates=['Date'],  \n",
    "    index_col=0 \n",
    ")\n",
    "\n",
    "# Check the first few rows to confirm\n",
    "print(data_clean.head())\n"
   ]
  }
 ],
 "metadata": {
  "kernelspec": {
   "display_name": "venv",
   "language": "python",
   "name": "python3"
  },
  "language_info": {
   "codemirror_mode": {
    "name": "ipython",
    "version": 3
   },
   "file_extension": ".py",
   "mimetype": "text/x-python",
   "name": "python",
   "nbconvert_exporter": "python",
   "pygments_lexer": "ipython3",
   "version": "3.12.3"
  }
 },
 "nbformat": 4,
 "nbformat_minor": 2
}
